{
  "nbformat": 4,
  "nbformat_minor": 0,
  "metadata": {
    "colab": {
      "provenance": [],
      "authorship_tag": "ABX9TyN9bgB1Q3nvxLNvueqGXNHI",
      "include_colab_link": true
    },
    "kernelspec": {
      "name": "python3",
      "display_name": "Python 3"
    },
    "language_info": {
      "name": "python"
    }
  },
  "cells": [
    {
      "cell_type": "markdown",
      "metadata": {
        "id": "view-in-github",
        "colab_type": "text"
      },
      "source": [
        "<a href=\"https://colab.research.google.com/github/Teuzinl/dados_turisticos/blob/main/Untitled0.ipynb\" target=\"_parent\"><img src=\"https://colab.research.google.com/assets/colab-badge.svg\" alt=\"Open In Colab\"/></a>"
      ]
    },
    {
      "cell_type": "code",
      "execution_count": 1,
      "metadata": {
        "id": "DzRdb1DbqubH",
        "colab": {
          "base_uri": "https://localhost:8080/"
        },
        "outputId": "ae6b8d96-cb60-45b6-d990-71a839773fb6"
      },
      "outputs": [
        {
          "output_type": "stream",
          "name": "stdout",
          "text": [
            "  Estado  Turistas_Nacionais  Turistas_Internacionais  Total_Turistas\n",
            "0     SP            12000000                  2500000        14500000\n",
            "1     RJ             8000000                  1800000         9800000\n",
            "2     BA             6000000                  1000000         7000000\n",
            "3     MG             5000000                   900000         5900000\n",
            "4     RS             4500000                   850000         5350000\n",
            "5     SC             4300000                   800000         5100000\n",
            "6     PR             4200000                   780000         4980000\n",
            "7     PE             3900000                   600000         4500000\n",
            "8     CE             3700000                   580000         4280000\n",
            "9     PA             3500000                   550000         4050000\n",
            "\n",
            "--- Estatísticas Gerais ---\n",
            "Total de turistas no Brasil: 65460000\n",
            "Média de turistas por estado: 6546000.0\n",
            "\n",
            "Estado com mais turistas: SP (14,500,000 turistas)\n"
          ]
        }
      ],
      "source": [
        "import pandas\n",
        "import pandas as pd\n",
        "\n",
        "\n",
        "dados = {\n",
        "    \"Estado\": [\"SP\", \"RJ\", \"BA\", \"MG\", \"RS\", \"SC\", \"PR\", \"PE\", \"CE\", \"PA\"],\n",
        "    \"Turistas_Nacionais\": [12000000, 8000000, 6000000, 5000000, 4500000, 4300000, 4200000, 3900000, 3700000, 3500000],\n",
        "    \"Turistas_Internacionais\": [2500000, 1800000, 1000000, 900000, 850000, 800000, 780000, 600000, 580000, 550000]\n",
        "}\n",
        "\n",
        "df = pd.DataFrame(dados)\n",
        "\n",
        "df[\"Total_Turistas\"] = df[\"Turistas_Nacionais\"] + df[\"Turistas_Internacionais\"]\n",
        "\n",
        "df_ordenado = df.sort_values(by=\"Total_Turistas\", ascending=False)\n",
        "\n",
        "print(df_ordenado)\n",
        "\n",
        "print(\"\\n--- Estatísticas Gerais ---\")\n",
        "print(\"Total de turistas no Brasil:\", df[\"Total_Turistas\"].sum())\n",
        "print(\"Média de turistas por estado:\", df[\"Total_Turistas\"].mean())\n",
        "\n",
        "estado_top = df_ordenado.iloc[0]\n",
        "print(f\"\\nEstado com mais turistas: {estado_top['Estado']} ({estado_top['Total_Turistas']:,} turistas)\")"
      ]
    }
  ]
}